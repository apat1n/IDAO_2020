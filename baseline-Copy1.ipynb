{
 "cells": [
  {
   "cell_type": "code",
   "execution_count": 139,
   "metadata": {},
   "outputs": [],
   "source": [
    "import random\n",
    "import time\n",
    "import numpy as np\n",
    "import pandas as pd\n",
    "import matplotlib.pyplot as plt\n",
    "from matplotlib.animation import FuncAnimation\n",
    "\n",
    "%matplotlib notebook\n",
    "plt.style.use('seaborn-pastel')\n",
    "\n",
    "SEED = 1488\n",
    "hold_out_portion = 0.2"
   ]
  },
  {
   "cell_type": "code",
   "execution_count": 140,
   "metadata": {},
   "outputs": [],
   "source": [
    "train_df = pd.read_csv('train.csv')\n",
    "holdout_indices = random.sample(range(len(train_df)), int(len(train_df) * hold_out_portion))\n",
    "\n",
    "holdout_df = train_df.iloc[holdout_indices, :]\n",
    "train_df = train_df.drop(holdout_indices)\n",
    "\n",
    "# fix index\n",
    "train_df = train_df.reset_index(drop=True)\n",
    "holdout_df = holdout_df.reset_index(drop=True)\n",
    "\n",
    "target_cols = ['x', 'y', 'z', 'Vx', 'Vy', 'Vz']\n",
    "target_df = train_df.loc[:, target_cols]\n",
    "target_df['id'] = train_df['id']\n",
    "train_df = train_df.drop(target_cols, axis=1)\n",
    "\n",
    "# train_df.head()"
   ]
  },
  {
   "cell_type": "code",
   "execution_count": 141,
   "metadata": {},
   "outputs": [],
   "source": [
    "test_df = pd.read_csv('./Track_1/test.csv')\n",
    "\n",
    "# test_df.head()"
   ]
  },
  {
   "cell_type": "code",
   "execution_count": 142,
   "metadata": {},
   "outputs": [
    {
     "name": "stdout",
     "output_type": "stream",
     "text": [
      "600\n",
      "True\n"
     ]
    }
   ],
   "source": [
    "sat_ids = train_df['sat_id'].unique()\n",
    "print(len(sat_ids)) # Number of inuqie satelites\n",
    "print(np.all(sat_ids == np.arange(0, 600))) # Check their numbers are 0, 1, ..., 600"
   ]
  },
  {
   "cell_type": "code",
   "execution_count": 143,
   "metadata": {},
   "outputs": [],
   "source": [
    "# if you need to use some filter\n",
    "filt = train_df['sat_id'] == 0\n",
    "req = train_df[filt]\n",
    "req = req.set_index('id').join(target_df.set_index('id'), on='id').reset_index()\n",
    "# display(req.head())"
   ]
  },
  {
   "cell_type": "markdown",
   "metadata": {},
   "source": [
    "## Metric"
   ]
  },
  {
   "cell_type": "code",
   "execution_count": 144,
   "metadata": {},
   "outputs": [],
   "source": [
    "def SMAPE(y_pred, y_true): \n",
    "    return np.mean(np.abs((y_pred - y_true) / (np.abs(y_pred) + np.abs(y_true))))"
   ]
  },
  {
   "cell_type": "markdown",
   "metadata": {},
   "source": [
    "## Model and Validation"
   ]
  },
  {
   "cell_type": "code",
   "execution_count": 145,
   "metadata": {},
   "outputs": [],
   "source": [
    "from sklearn import metrics\n",
    "from sklearn.model_selection import GridSearchCV\n",
    "from xgboost import XGBRegressor"
   ]
  },
  {
   "cell_type": "code",
   "execution_count": 146,
   "metadata": {},
   "outputs": [],
   "source": [
    "X_train = train_df.drop(['id', 'epoch', 'sat_id'], axis=1).values\n",
    "X_val = holdout_df.drop(['id', 'epoch', 'sat_id'] + target_cols, axis=1).values"
   ]
  },
  {
   "cell_type": "code",
   "execution_count": null,
   "metadata": {},
   "outputs": [],
   "source": []
  },
  {
   "cell_type": "markdown",
   "metadata": {},
   "source": [
    "Tune all regressors independently"
   ]
  },
  {
   "cell_type": "code",
   "execution_count": 156,
   "metadata": {},
   "outputs": [],
   "source": [
    "config = dict()\n",
    "config[\"n_estimators\"] = 40\n",
    "config[\"booster\"] = 'gbtree'\n",
    "config[\"objective\"] = 'reg:squarederror'\n",
    "config[\"random_state\"] = SEED\n",
    "config[\"learning_rate\"] = 0.1\n",
    "config[\"gamma\"] = 0.01  # Minimum loss reduction to split\n",
    "config[\"scoring\"] = SMAPE\n",
    "\n",
    "\n",
    "param_grid_1 = {\n",
    " 'max_depth':range(4,10,3),\n",
    " 'min_child_weight':range(1,3,1)\n",
    "}"
   ]
  },
  {
   "cell_type": "code",
   "execution_count": 160,
   "metadata": {},
   "outputs": [
    {
     "name": "stdout",
     "output_type": "stream",
     "text": [
      "Fitting 5 folds for each of 4 candidates, totalling 20 fits\n"
     ]
    },
    {
     "name": "stderr",
     "output_type": "stream",
     "text": [
      "[Parallel(n_jobs=10)]: Using backend LokyBackend with 10 concurrent workers.\n",
      "[Parallel(n_jobs=10)]: Done  20 out of  20 | elapsed:  1.1min finished\n"
     ]
    },
    {
     "name": "stdout",
     "output_type": "stream",
     "text": [
      "For column: x\n",
      "{'max_depth': 4, 'min_child_weight': 1}\n",
      "0.9218533117646072\n",
      "-------------------------\n",
      "\n",
      "Fitting 5 folds for each of 4 candidates, totalling 20 fits\n"
     ]
    },
    {
     "name": "stderr",
     "output_type": "stream",
     "text": [
      "[Parallel(n_jobs=10)]: Using backend LokyBackend with 10 concurrent workers.\n",
      "[Parallel(n_jobs=10)]: Done  20 out of  20 | elapsed:  1.1min finished\n"
     ]
    },
    {
     "name": "stdout",
     "output_type": "stream",
     "text": [
      "For column: y\n",
      "{'max_depth': 4, 'min_child_weight': 1}\n",
      "0.9236192561726314\n",
      "-------------------------\n",
      "\n",
      "Fitting 5 folds for each of 4 candidates, totalling 20 fits\n"
     ]
    },
    {
     "name": "stderr",
     "output_type": "stream",
     "text": [
      "[Parallel(n_jobs=10)]: Using backend LokyBackend with 10 concurrent workers.\n",
      "[Parallel(n_jobs=10)]: Done  20 out of  20 | elapsed:  1.0min finished\n"
     ]
    },
    {
     "name": "stdout",
     "output_type": "stream",
     "text": [
      "For column: z\n",
      "{'max_depth': 4, 'min_child_weight': 1}\n",
      "0.9199725609808335\n",
      "-------------------------\n",
      "\n",
      "Fitting 5 folds for each of 4 candidates, totalling 20 fits\n"
     ]
    },
    {
     "name": "stderr",
     "output_type": "stream",
     "text": [
      "[Parallel(n_jobs=10)]: Using backend LokyBackend with 10 concurrent workers.\n",
      "[Parallel(n_jobs=10)]: Done  20 out of  20 | elapsed:  1.0min finished\n"
     ]
    },
    {
     "name": "stdout",
     "output_type": "stream",
     "text": [
      "For column: Vx\n",
      "{'max_depth': 4, 'min_child_weight': 1}\n",
      "0.7469426135545694\n",
      "-------------------------\n",
      "\n",
      "Fitting 5 folds for each of 4 candidates, totalling 20 fits\n"
     ]
    },
    {
     "name": "stderr",
     "output_type": "stream",
     "text": [
      "[Parallel(n_jobs=10)]: Using backend LokyBackend with 10 concurrent workers.\n",
      "[Parallel(n_jobs=10)]: Done  20 out of  20 | elapsed:  1.1min finished\n"
     ]
    },
    {
     "name": "stdout",
     "output_type": "stream",
     "text": [
      "For column: Vy\n",
      "{'max_depth': 4, 'min_child_weight': 1}\n",
      "0.71681519755171\n",
      "-------------------------\n",
      "\n",
      "Fitting 5 folds for each of 4 candidates, totalling 20 fits\n"
     ]
    },
    {
     "name": "stderr",
     "output_type": "stream",
     "text": [
      "[Parallel(n_jobs=10)]: Using backend LokyBackend with 10 concurrent workers.\n",
      "[Parallel(n_jobs=10)]: Done  20 out of  20 | elapsed:   59.9s finished\n"
     ]
    },
    {
     "name": "stdout",
     "output_type": "stream",
     "text": [
      "For column: Vz\n",
      "{'max_depth': 4, 'min_child_weight': 2}\n",
      "0.7080882365054846\n",
      "-------------------------\n",
      "\n"
     ]
    }
   ],
   "source": [
    "for column in ['x', 'y', 'z', 'Vx', 'Vy', 'Vz']:\n",
    "    model = XGBRegressor(**config)\n",
    "    grid_search_1 = GridSearchCV(estimator=model, param_grid=param_grid_1, n_jobs=10, iid=False, cv=5, verbose=True)\n",
    "    grid_search_1.fit(X_train, target_df[column].values)\n",
    "    \n",
    "    print(\"For column: {}\".format(column))\n",
    "    print(grid_search_1.best_params_)\n",
    "    print(grid_search_1.best_score_)\n",
    "    print(\"-------------------------\\n\")"
   ]
  },
  {
   "cell_type": "code",
   "execution_count": 165,
   "metadata": {},
   "outputs": [
    {
     "name": "stdout",
     "output_type": "stream",
     "text": [
      "Fitting 5 folds for each of 18 candidates, totalling 90 fits\n"
     ]
    },
    {
     "name": "stderr",
     "output_type": "stream",
     "text": [
      "[Parallel(n_jobs=-1)]: Using backend LokyBackend with 16 concurrent workers.\n",
      "[Parallel(n_jobs=-1)]: Done  18 tasks      | elapsed:  1.0min\n",
      "[Parallel(n_jobs=-1)]: Done  90 out of  90 | elapsed:  3.8min finished\n"
     ]
    },
    {
     "name": "stdout",
     "output_type": "stream",
     "text": [
      "For column: x\n",
      "{'max_depth': 5, 'min_child_weight': 1.25}\n",
      "0.9220216215518487\n",
      "-------------------------\n",
      "\n",
      "Fitting 5 folds for each of 18 candidates, totalling 90 fits\n"
     ]
    },
    {
     "name": "stderr",
     "output_type": "stream",
     "text": [
      "[Parallel(n_jobs=-1)]: Using backend LokyBackend with 16 concurrent workers.\n",
      "[Parallel(n_jobs=-1)]: Done  18 tasks      | elapsed:   58.7s\n",
      "[Parallel(n_jobs=-1)]: Done  90 out of  90 | elapsed:  3.9min finished\n"
     ]
    },
    {
     "name": "stdout",
     "output_type": "stream",
     "text": [
      "For column: y\n",
      "{'max_depth': 5, 'min_child_weight': 2.25}\n",
      "0.9238235026881749\n",
      "-------------------------\n",
      "\n",
      "Fitting 5 folds for each of 18 candidates, totalling 90 fits\n"
     ]
    },
    {
     "name": "stderr",
     "output_type": "stream",
     "text": [
      "[Parallel(n_jobs=-1)]: Using backend LokyBackend with 16 concurrent workers.\n",
      "[Parallel(n_jobs=-1)]: Done  18 tasks      | elapsed:   57.8s\n",
      "[Parallel(n_jobs=-1)]: Done  90 out of  90 | elapsed:  3.7min finished\n"
     ]
    },
    {
     "name": "stdout",
     "output_type": "stream",
     "text": [
      "For column: z\n",
      "{'max_depth': 4, 'min_child_weight': 2.25}\n",
      "0.919999318043212\n",
      "-------------------------\n",
      "\n",
      "Fitting 5 folds for each of 18 candidates, totalling 90 fits\n"
     ]
    },
    {
     "name": "stderr",
     "output_type": "stream",
     "text": [
      "[Parallel(n_jobs=-1)]: Using backend LokyBackend with 16 concurrent workers.\n",
      "[Parallel(n_jobs=-1)]: Done  18 tasks      | elapsed:  1.0min\n",
      "[Parallel(n_jobs=-1)]: Done  90 out of  90 | elapsed:  3.7min finished\n"
     ]
    },
    {
     "name": "stdout",
     "output_type": "stream",
     "text": [
      "For column: Vx\n",
      "{'max_depth': 5, 'min_child_weight': 0.75}\n",
      "0.7471534386625829\n",
      "-------------------------\n",
      "\n",
      "Fitting 5 folds for each of 18 candidates, totalling 90 fits\n"
     ]
    },
    {
     "name": "stderr",
     "output_type": "stream",
     "text": [
      "[Parallel(n_jobs=-1)]: Using backend LokyBackend with 16 concurrent workers.\n",
      "[Parallel(n_jobs=-1)]: Done  18 tasks      | elapsed:   59.1s\n",
      "[Parallel(n_jobs=-1)]: Done  90 out of  90 | elapsed:  3.7min finished\n"
     ]
    },
    {
     "name": "stdout",
     "output_type": "stream",
     "text": [
      "For column: Vy\n",
      "{'max_depth': 3, 'min_child_weight': 0.75}\n",
      "0.7203652970058814\n",
      "-------------------------\n",
      "\n",
      "Fitting 5 folds for each of 18 candidates, totalling 90 fits\n"
     ]
    },
    {
     "name": "stderr",
     "output_type": "stream",
     "text": [
      "[Parallel(n_jobs=-1)]: Using backend LokyBackend with 16 concurrent workers.\n",
      "[Parallel(n_jobs=-1)]: Done  18 tasks      | elapsed:   59.9s\n",
      "[Parallel(n_jobs=-1)]: Done  90 out of  90 | elapsed:  3.7min finished\n"
     ]
    },
    {
     "name": "stdout",
     "output_type": "stream",
     "text": [
      "For column: Vz\n",
      "{'max_depth': 3, 'min_child_weight': 0.75}\n",
      "0.7088187734276608\n",
      "-------------------------\n",
      "\n"
     ]
    }
   ],
   "source": [
    "param_grid_2 = {\n",
    " 'max_depth': range(3,6,1),\n",
    " 'min_child_weight': [0.75, 1.0, 1.25, 1.75, 2.0, 2.25]\n",
    "}\n",
    "\n",
    "for column in ['x', 'y', 'z', 'Vx', 'Vy', 'Vz']:\n",
    "    model = XGBRegressor(**config)\n",
    "    grid_search_1 = GridSearchCV(estimator=model, param_grid=param_grid_2, n_jobs=-1, iid=False, cv=5, verbose=True)\n",
    "    grid_search_1.fit(X_train, target_df[column].values)\n",
    "    \n",
    "    print(\"For column: {}\".format(column))\n",
    "    print(grid_search_1.best_params_)\n",
    "    print(grid_search_1.best_score_)\n",
    "    print(\"-------------------------\\n\")"
   ]
  },
  {
   "cell_type": "code",
   "execution_count": null,
   "metadata": {},
   "outputs": [],
   "source": []
  },
  {
   "cell_type": "markdown",
   "metadata": {},
   "source": [
    "I had to save params automatically, but I forgor :/"
   ]
  },
  {
   "cell_type": "code",
   "execution_count": 176,
   "metadata": {},
   "outputs": [],
   "source": [
    "columns_config = {\n",
    "    \"x\" : {**config, **{'max_depth': 5, 'min_child_weight': 1.25}},\n",
    "    \"y\" : {**config, **{'max_depth': 5, 'min_child_weight': 2.25}},\n",
    "    \"z\" : {**config, **{'max_depth': 4, 'min_child_weight': 2.25}},\n",
    "    \"Vx\" : {**config, **{'max_depth': 5, 'min_child_weight': 0.75}},\n",
    "    \"Vy\" : {**config, **{'max_depth': 3, 'min_child_weight': 0.75}},\n",
    "    \"Vz\" : {**config, **{'max_depth': 3, 'min_child_weight': 0.75}},\n",
    "}"
   ]
  },
  {
   "cell_type": "code",
   "execution_count": 177,
   "metadata": {},
   "outputs": [
    {
     "name": "stdout",
     "output_type": "stream",
     "text": [
      "Fitting 5 folds for each of 5 candidates, totalling 25 fits\n"
     ]
    },
    {
     "name": "stderr",
     "output_type": "stream",
     "text": [
      "[Parallel(n_jobs=-1)]: Using backend LokyBackend with 16 concurrent workers.\n",
      "[Parallel(n_jobs=-1)]: Done  20 out of  25 | elapsed:  1.3min remaining:   19.8s\n",
      "[Parallel(n_jobs=-1)]: Done  25 out of  25 | elapsed:  1.3min finished\n"
     ]
    },
    {
     "name": "stdout",
     "output_type": "stream",
     "text": [
      "For column: x\n",
      "{'gamma': 0.0}\n",
      "0.9220216215518487\n",
      "-------------------------\n",
      "\n",
      "Fitting 5 folds for each of 5 candidates, totalling 25 fits\n"
     ]
    },
    {
     "name": "stderr",
     "output_type": "stream",
     "text": [
      "[Parallel(n_jobs=-1)]: Using backend LokyBackend with 16 concurrent workers.\n",
      "[Parallel(n_jobs=-1)]: Done  20 out of  25 | elapsed:  1.3min remaining:   19.1s\n",
      "[Parallel(n_jobs=-1)]: Done  25 out of  25 | elapsed:  1.3min finished\n"
     ]
    },
    {
     "name": "stdout",
     "output_type": "stream",
     "text": [
      "For column: y\n",
      "{'gamma': 0.0}\n",
      "0.9238235026881749\n",
      "-------------------------\n",
      "\n",
      "Fitting 5 folds for each of 5 candidates, totalling 25 fits\n"
     ]
    },
    {
     "name": "stderr",
     "output_type": "stream",
     "text": [
      "[Parallel(n_jobs=-1)]: Using backend LokyBackend with 16 concurrent workers.\n",
      "[Parallel(n_jobs=-1)]: Done  20 out of  25 | elapsed:   58.8s remaining:   14.7s\n",
      "[Parallel(n_jobs=-1)]: Done  25 out of  25 | elapsed:   59.4s finished\n"
     ]
    },
    {
     "name": "stdout",
     "output_type": "stream",
     "text": [
      "For column: z\n",
      "{'gamma': 0.0}\n",
      "0.919999318043212\n",
      "-------------------------\n",
      "\n",
      "Fitting 5 folds for each of 5 candidates, totalling 25 fits\n"
     ]
    },
    {
     "name": "stderr",
     "output_type": "stream",
     "text": [
      "[Parallel(n_jobs=-1)]: Using backend LokyBackend with 16 concurrent workers.\n",
      "[Parallel(n_jobs=-1)]: Done  20 out of  25 | elapsed:  1.3min remaining:   18.8s\n",
      "[Parallel(n_jobs=-1)]: Done  25 out of  25 | elapsed:  1.3min finished\n"
     ]
    },
    {
     "name": "stdout",
     "output_type": "stream",
     "text": [
      "For column: Vx\n",
      "{'gamma': 0.3}\n",
      "0.7471534420749751\n",
      "-------------------------\n",
      "\n",
      "Fitting 5 folds for each of 5 candidates, totalling 25 fits\n"
     ]
    },
    {
     "name": "stderr",
     "output_type": "stream",
     "text": [
      "[Parallel(n_jobs=-1)]: Using backend LokyBackend with 16 concurrent workers.\n",
      "[Parallel(n_jobs=-1)]: Done  20 out of  25 | elapsed:   46.2s remaining:   11.5s\n",
      "[Parallel(n_jobs=-1)]: Done  25 out of  25 | elapsed:   46.5s finished\n"
     ]
    },
    {
     "name": "stdout",
     "output_type": "stream",
     "text": [
      "For column: Vy\n",
      "{'gamma': 0.0}\n",
      "0.7203652970058814\n",
      "-------------------------\n",
      "\n",
      "Fitting 5 folds for each of 5 candidates, totalling 25 fits\n"
     ]
    },
    {
     "name": "stderr",
     "output_type": "stream",
     "text": [
      "[Parallel(n_jobs=-1)]: Using backend LokyBackend with 16 concurrent workers.\n",
      "[Parallel(n_jobs=-1)]: Done  20 out of  25 | elapsed:   47.0s remaining:   11.8s\n",
      "[Parallel(n_jobs=-1)]: Done  25 out of  25 | elapsed:   47.1s finished\n"
     ]
    },
    {
     "name": "stdout",
     "output_type": "stream",
     "text": [
      "For column: Vz\n",
      "{'gamma': 0.0}\n",
      "0.7088187734276608\n",
      "-------------------------\n",
      "\n"
     ]
    }
   ],
   "source": [
    "param_test3 = {\n",
    " 'gamma': [i/10.0 for i in range(0,5)]\n",
    "}\n",
    "# Remove initial gamma\n",
    "for column in columns_config:\n",
    "    value = columns_config[column]\n",
    "    value.pop('gamma')\n",
    "\n",
    "for column in ['x', 'y', 'z', 'Vx', 'Vy', 'Vz']:\n",
    "    model = XGBRegressor(**columns_config[column])\n",
    "    \n",
    "    grid_search_1 = GridSearchCV(estimator=model, param_grid=param_test3, n_jobs=-1, iid=False, cv=5, verbose=True)\n",
    "    grid_search_1.fit(X_train, target_df[column].values)\n",
    "    \n",
    "    print(\"For column: {}\".format(column))\n",
    "    print(grid_search_1.best_params_)\n",
    "    print(grid_search_1.best_score_)\n",
    "    print(\"-------------------------\\n\")"
   ]
  },
  {
   "cell_type": "code",
   "execution_count": null,
   "metadata": {},
   "outputs": [],
   "source": []
  },
  {
   "cell_type": "markdown",
   "metadata": {},
   "source": [
    "Okay, gamma = 0.0"
   ]
  },
  {
   "cell_type": "code",
   "execution_count": 178,
   "metadata": {},
   "outputs": [],
   "source": [
    "columns_config = {\n",
    "    \"x\" : {**config, **{'gamma': 0.0}},\n",
    "    \"y\" : {**config, **{'gamma': 0.0}},\n",
    "    \"z\" : {**config, **{'gamma': 0.0}},\n",
    "    \"Vx\" : {**config, **{'gamma': 0.0}},\n",
    "    \"Vy\" : {**config, **{'gamma': 0.0}},\n",
    "    \"Vz\" : {**config, **{'gamma': 0.0}},\n",
    "}"
   ]
  },
  {
   "cell_type": "code",
   "execution_count": 181,
   "metadata": {},
   "outputs": [
    {
     "name": "stdout",
     "output_type": "stream",
     "text": [
      "Fitting 5 folds for each of 4 candidates, totalling 20 fits\n"
     ]
    },
    {
     "name": "stderr",
     "output_type": "stream",
     "text": [
      "[Parallel(n_jobs=-1)]: Using backend LokyBackend with 16 concurrent workers.\n",
      "[Parallel(n_jobs=-1)]: Done  10 out of  20 | elapsed:   31.8s remaining:   31.8s\n",
      "[Parallel(n_jobs=-1)]: Done  20 out of  20 | elapsed:   42.0s finished\n"
     ]
    },
    {
     "name": "stdout",
     "output_type": "stream",
     "text": [
      "For column: x\n",
      "{'reg_alpha': 1e-05}\n",
      "0.9202821761494906\n",
      "-------------------------\n",
      "\n",
      "Fitting 5 folds for each of 4 candidates, totalling 20 fits\n"
     ]
    },
    {
     "name": "stderr",
     "output_type": "stream",
     "text": [
      "[Parallel(n_jobs=-1)]: Using backend LokyBackend with 16 concurrent workers.\n",
      "[Parallel(n_jobs=-1)]: Done  10 out of  20 | elapsed:   28.7s remaining:   28.7s\n",
      "[Parallel(n_jobs=-1)]: Done  20 out of  20 | elapsed:   38.6s finished\n"
     ]
    },
    {
     "name": "stdout",
     "output_type": "stream",
     "text": [
      "For column: y\n",
      "{'reg_alpha': 0.1}\n",
      "0.921969447087252\n",
      "-------------------------\n",
      "\n",
      "Fitting 5 folds for each of 4 candidates, totalling 20 fits\n"
     ]
    },
    {
     "name": "stderr",
     "output_type": "stream",
     "text": [
      "[Parallel(n_jobs=-1)]: Using backend LokyBackend with 16 concurrent workers.\n",
      "[Parallel(n_jobs=-1)]: Done  10 out of  20 | elapsed:   28.2s remaining:   28.2s\n",
      "[Parallel(n_jobs=-1)]: Done  20 out of  20 | elapsed:   39.5s finished\n"
     ]
    },
    {
     "name": "stdout",
     "output_type": "stream",
     "text": [
      "For column: z\n",
      "{'reg_alpha': 1}\n",
      "0.9181795758054717\n",
      "-------------------------\n",
      "\n",
      "Fitting 5 folds for each of 4 candidates, totalling 20 fits\n"
     ]
    },
    {
     "name": "stderr",
     "output_type": "stream",
     "text": [
      "[Parallel(n_jobs=-1)]: Using backend LokyBackend with 16 concurrent workers.\n",
      "[Parallel(n_jobs=-1)]: Done  10 out of  20 | elapsed:   29.6s remaining:   29.6s\n",
      "[Parallel(n_jobs=-1)]: Done  20 out of  20 | elapsed:   39.8s finished\n"
     ]
    },
    {
     "name": "stdout",
     "output_type": "stream",
     "text": [
      "For column: Vx\n",
      "{'reg_alpha': 1e-05}\n",
      "0.7468763532463811\n",
      "-------------------------\n",
      "\n",
      "Fitting 5 folds for each of 4 candidates, totalling 20 fits\n"
     ]
    },
    {
     "name": "stderr",
     "output_type": "stream",
     "text": [
      "[Parallel(n_jobs=-1)]: Using backend LokyBackend with 16 concurrent workers.\n",
      "[Parallel(n_jobs=-1)]: Done  10 out of  20 | elapsed:   30.4s remaining:   30.4s\n",
      "[Parallel(n_jobs=-1)]: Done  20 out of  20 | elapsed:   40.5s finished\n"
     ]
    },
    {
     "name": "stdout",
     "output_type": "stream",
     "text": [
      "For column: Vy\n",
      "{'reg_alpha': 1}\n",
      "0.7207050739967398\n",
      "-------------------------\n",
      "\n",
      "Fitting 5 folds for each of 4 candidates, totalling 20 fits\n"
     ]
    },
    {
     "name": "stderr",
     "output_type": "stream",
     "text": [
      "[Parallel(n_jobs=-1)]: Using backend LokyBackend with 16 concurrent workers.\n",
      "[Parallel(n_jobs=-1)]: Done  10 out of  20 | elapsed:   30.3s remaining:   30.3s\n",
      "[Parallel(n_jobs=-1)]: Done  20 out of  20 | elapsed:   40.6s finished\n"
     ]
    },
    {
     "name": "stdout",
     "output_type": "stream",
     "text": [
      "For column: Vz\n",
      "{'reg_alpha': 0.1}\n",
      "0.7088191228166302\n",
      "-------------------------\n",
      "\n"
     ]
    }
   ],
   "source": [
    "param_test6 = {\n",
    " 'reg_alpha':[1e-5, 1e-2, 0.1, 1]\n",
    "}\n",
    "\n",
    "for column in ['x', 'y', 'z', 'Vx', 'Vy', 'Vz']:\n",
    "    model = XGBRegressor(**columns_config[column])\n",
    "    \n",
    "    grid_search_1 = GridSearchCV(estimator=model, param_grid=param_test6, n_jobs=-1, iid=False, cv=5, verbose=True)\n",
    "    grid_search_1.fit(X_train, target_df[column].values)\n",
    "    \n",
    "    print(\"For column: {}\".format(column))\n",
    "    print(grid_search_1.best_params_)\n",
    "    print(grid_search_1.best_score_)\n",
    "    print(\"-------------------------\\n\")"
   ]
  },
  {
   "cell_type": "code",
   "execution_count": 182,
   "metadata": {},
   "outputs": [],
   "source": [
    "columns_config = {\n",
    "    \"x\" : {**config, **{'reg_alpha': 1e-05}},\n",
    "    \"y\" : {**config, **{'reg_alpha': 0.1}},\n",
    "    \"z\" : {**config, **{'reg_alpha': 1.0}},\n",
    "    \"Vx\" : {**config, **{'reg_alpha': 1e-5}},\n",
    "    \"Vy\" : {**config, **{'reg_alpha': 1.0}},\n",
    "    \"Vz\" : {**config, **{'reg_alpha': 0.1}},\n",
    "}"
   ]
  },
  {
   "cell_type": "markdown",
   "metadata": {},
   "source": [
    "TODO : Tune subsample and colsample_bytree"
   ]
  },
  {
   "cell_type": "markdown",
   "metadata": {},
   "source": [
    "Reduce learning rate, add more trees and submit"
   ]
  },
  {
   "cell_type": "code",
   "execution_count": 192,
   "metadata": {},
   "outputs": [],
   "source": [
    "for column in columns_config:\n",
    "    config = columns_config[column]\n",
    "    config[\"n_estimators\"] = 150\n",
    "    config[\"learning_rate\"] = 0.01\n",
    "    config[\"n_jobs\"] = -1"
   ]
  },
  {
   "cell_type": "code",
   "execution_count": 193,
   "metadata": {},
   "outputs": [],
   "source": [
    "# n_est = 120\n",
    "# booster = 'gblinear' # gbtree, gblinear\n",
    "\n",
    "class Model():\n",
    "    def __init__(self, config):\n",
    "        self.config = config\n",
    "        \n",
    "        self.x_model = XGBRegressor(**config['x'])\n",
    "        self.y_model = XGBRegressor(**config['y'])\n",
    "        self.z_model = XGBRegressor(**config['z'])\n",
    "\n",
    "        self.Vx_model = XGBRegressor(**config['Vx'])\n",
    "        self.Vy_model = XGBRegressor(**config['Vy'])\n",
    "        self.Vz_model = XGBRegressor(**config['Vz'])\n",
    "\n",
    "    def fit(self, X_train, target_df):\n",
    "        self.x_model.fit(X_train, target_df['x'].values)\n",
    "        self.y_model.fit(X_train, target_df['y'].values)\n",
    "        self.z_model.fit(X_train, target_df['z'].values)\n",
    "\n",
    "        self.Vx_model.fit(X_train, target_df['Vx'].values)\n",
    "        self.Vy_model.fit(X_train, target_df['Vy'].values)\n",
    "        self.Vz_model.fit(X_train, target_df['Vz'].values)\n",
    "        \n",
    "    def predict(self, X):\n",
    "        pred = pd.DataFrame()\n",
    "        pred['x'] = self.x_model.predict(X)\n",
    "        pred['y'] = self.y_model.predict(X)\n",
    "        pred['z'] = self.z_model.predict(X)\n",
    "\n",
    "        pred['Vx'] = self.Vx_model.predict(X)\n",
    "        pred['Vy'] = self.Vy_model.predict(X)\n",
    "        pred['Vz'] = self.Vz_model.predict(X)\n",
    "        return pred\n",
    "    \n",
    "    def score(self, y_pred, y_true):\n",
    "        return SMAPE(y_pred, y_true)"
   ]
  },
  {
   "cell_type": "code",
   "execution_count": 194,
   "metadata": {},
   "outputs": [],
   "source": [
    "model = Model(columns_config)\n",
    "model.fit(X_train, target_df)"
   ]
  },
  {
   "cell_type": "code",
   "execution_count": 195,
   "metadata": {},
   "outputs": [
    {
     "data": {
      "text/plain": [
       "70.13276042361387"
      ]
     },
     "execution_count": 195,
     "metadata": {},
     "output_type": "execute_result"
    }
   ],
   "source": [
    "# Holdout score\n",
    "pred = model.predict(X_val)\n",
    "100 * (1 - SMAPE(pred.values, holdout_df.loc[:, target_cols].values))"
   ]
  },
  {
   "cell_type": "code",
   "execution_count": null,
   "metadata": {},
   "outputs": [],
   "source": []
  },
  {
   "cell_type": "code",
   "execution_count": null,
   "metadata": {},
   "outputs": [],
   "source": []
  },
  {
   "cell_type": "code",
   "execution_count": null,
   "metadata": {},
   "outputs": [],
   "source": []
  },
  {
   "cell_type": "code",
   "execution_count": null,
   "metadata": {},
   "outputs": [],
   "source": []
  },
  {
   "cell_type": "code",
   "execution_count": null,
   "metadata": {},
   "outputs": [],
   "source": []
  },
  {
   "cell_type": "code",
   "execution_count": null,
   "metadata": {},
   "outputs": [],
   "source": []
  },
  {
   "cell_type": "code",
   "execution_count": null,
   "metadata": {},
   "outputs": [],
   "source": []
  },
  {
   "cell_type": "code",
   "execution_count": null,
   "metadata": {},
   "outputs": [],
   "source": []
  },
  {
   "cell_type": "code",
   "execution_count": null,
   "metadata": {},
   "outputs": [],
   "source": []
  },
  {
   "cell_type": "code",
   "execution_count": null,
   "metadata": {},
   "outputs": [],
   "source": []
  },
  {
   "cell_type": "code",
   "execution_count": null,
   "metadata": {},
   "outputs": [],
   "source": []
  },
  {
   "cell_type": "markdown",
   "metadata": {},
   "source": [
    "## Make prediction"
   ]
  },
  {
   "cell_type": "code",
   "execution_count": 196,
   "metadata": {},
   "outputs": [],
   "source": [
    "def beautify_submit(df):\n",
    "    submit_cols = ['id', 'x', 'y', 'z', 'Vx', 'Vy', 'Vz']\n",
    "    return df.loc[:, submit_cols]"
   ]
  },
  {
   "cell_type": "code",
   "execution_count": 197,
   "metadata": {},
   "outputs": [],
   "source": [
    "train_df = pd.read_csv('train.csv')\n",
    "\n",
    "target_cols = ['x', 'y', 'z', 'Vx', 'Vy', 'Vz']\n",
    "target_df = train_df.loc[:, target_cols]\n",
    "target_df['id'] = train_df['id']\n",
    "train_df = train_df.drop(target_cols, axis=1)"
   ]
  },
  {
   "cell_type": "code",
   "execution_count": 198,
   "metadata": {},
   "outputs": [],
   "source": [
    "X_train = train_df.drop(['id', 'epoch', 'sat_id'], axis=1).values\n",
    "X_test = test_df.drop(['id', 'epoch', 'sat_id'], axis=1).values"
   ]
  },
  {
   "cell_type": "code",
   "execution_count": 200,
   "metadata": {},
   "outputs": [],
   "source": [
    "model = Model(columns_config)\n",
    "model.fit(X_train, target_df)"
   ]
  },
  {
   "cell_type": "code",
   "execution_count": 201,
   "metadata": {},
   "outputs": [],
   "source": [
    "pred = model.predict(X_test)\n",
    "pred['id'] = test_df['id']\n",
    "\n",
    "pred = beautify_submit(pred)"
   ]
  },
  {
   "cell_type": "code",
   "execution_count": 203,
   "metadata": {
    "scrolled": true
   },
   "outputs": [
    {
     "data": {
      "text/html": [
       "<div>\n",
       "<style scoped>\n",
       "    .dataframe tbody tr th:only-of-type {\n",
       "        vertical-align: middle;\n",
       "    }\n",
       "\n",
       "    .dataframe tbody tr th {\n",
       "        vertical-align: top;\n",
       "    }\n",
       "\n",
       "    .dataframe thead th {\n",
       "        text-align: right;\n",
       "    }\n",
       "</style>\n",
       "<table border=\"1\" class=\"dataframe\">\n",
       "  <thead>\n",
       "    <tr style=\"text-align: right;\">\n",
       "      <th></th>\n",
       "      <th>id</th>\n",
       "      <th>x</th>\n",
       "      <th>y</th>\n",
       "      <th>z</th>\n",
       "      <th>Vx</th>\n",
       "      <th>Vy</th>\n",
       "      <th>Vz</th>\n",
       "    </tr>\n",
       "  </thead>\n",
       "  <tbody>\n",
       "    <tr>\n",
       "      <th>0</th>\n",
       "      <td>3927</td>\n",
       "      <td>-9479.583008</td>\n",
       "      <td>-9838.434570</td>\n",
       "      <td>4397.086426</td>\n",
       "      <td>3.140021</td>\n",
       "      <td>-0.500944</td>\n",
       "      <td>0.671815</td>\n",
       "    </tr>\n",
       "    <tr>\n",
       "      <th>1</th>\n",
       "      <td>3928</td>\n",
       "      <td>-4842.244629</td>\n",
       "      <td>-9838.434570</td>\n",
       "      <td>4616.777344</td>\n",
       "      <td>3.179790</td>\n",
       "      <td>0.381785</td>\n",
       "      <td>0.364836</td>\n",
       "    </tr>\n",
       "    <tr>\n",
       "      <th>2</th>\n",
       "      <td>3929</td>\n",
       "      <td>-357.389923</td>\n",
       "      <td>-8838.695312</td>\n",
       "      <td>4616.777344</td>\n",
       "      <td>3.179790</td>\n",
       "      <td>1.511498</td>\n",
       "      <td>-0.280927</td>\n",
       "    </tr>\n",
       "    <tr>\n",
       "      <th>3</th>\n",
       "      <td>3930</td>\n",
       "      <td>3897.159912</td>\n",
       "      <td>-5422.936035</td>\n",
       "      <td>3416.396484</td>\n",
       "      <td>3.136972</td>\n",
       "      <td>3.111646</td>\n",
       "      <td>-1.212746</td>\n",
       "    </tr>\n",
       "    <tr>\n",
       "      <th>4</th>\n",
       "      <td>3931</td>\n",
       "      <td>6728.619141</td>\n",
       "      <td>-1415.591187</td>\n",
       "      <td>1621.241821</td>\n",
       "      <td>1.277891</td>\n",
       "      <td>3.132170</td>\n",
       "      <td>-2.020882</td>\n",
       "    </tr>\n",
       "  </tbody>\n",
       "</table>\n",
       "</div>"
      ],
      "text/plain": [
       "     id            x            y            z        Vx        Vy        Vz\n",
       "0  3927 -9479.583008 -9838.434570  4397.086426  3.140021 -0.500944  0.671815\n",
       "1  3928 -4842.244629 -9838.434570  4616.777344  3.179790  0.381785  0.364836\n",
       "2  3929  -357.389923 -8838.695312  4616.777344  3.179790  1.511498 -0.280927\n",
       "3  3930  3897.159912 -5422.936035  3416.396484  3.136972  3.111646 -1.212746\n",
       "4  3931  6728.619141 -1415.591187  1621.241821  1.277891  3.132170 -2.020882"
      ]
     },
     "execution_count": 203,
     "metadata": {},
     "output_type": "execute_result"
    }
   ],
   "source": [
    "pred.to_csv('19_01_2020.csv', index=None)\n",
    "pred.head()"
   ]
  },
  {
   "cell_type": "markdown",
   "metadata": {},
   "source": [
    "Итог:\n",
    "---\n",
    "59 - public score<br>\n",
    "70 - holdout score"
   ]
  },
  {
   "cell_type": "code",
   "execution_count": null,
   "metadata": {},
   "outputs": [],
   "source": []
  }
 ],
 "metadata": {
  "file_extension": ".py",
  "kernelspec": {
   "display_name": "Python 3",
   "language": "python",
   "name": "python3"
  },
  "language_info": {
   "codemirror_mode": {
    "name": "ipython",
    "version": 3
   },
   "file_extension": ".py",
   "mimetype": "text/x-python",
   "name": "python",
   "nbconvert_exporter": "python",
   "pygments_lexer": "ipython3",
   "version": "3.7.5"
  },
  "mimetype": "text/x-python",
  "name": "python",
  "npconvert_exporter": "python",
  "pygments_lexer": "ipython3",
  "version": 3
 },
 "nbformat": 4,
 "nbformat_minor": 2
}
